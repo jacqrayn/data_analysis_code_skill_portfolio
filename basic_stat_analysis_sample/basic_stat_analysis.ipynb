{
 "cells": [
  {
   "cell_type": "markdown",
   "metadata": {},
   "source": [
    "Data: NYC Rideshare Data\n",
    "\n",
    "Questions:\n",
    "1. How often do riders tip?\n",
    "2. When riders tip, how much do they tip?\n",
    "3. What are the busiest tipped routes?"
   ]
  },
  {
   "cell_type": "code",
   "execution_count": 1,
   "metadata": {},
   "outputs": [],
   "source": [
    "# imports\n",
    "from pathlib import Path\n",
    "import pandas as pd"
   ]
  },
  {
   "cell_type": "code",
   "execution_count": 2,
   "metadata": {},
   "outputs": [],
   "source": [
    "# set pandas to display all rows by default for manual review\n",
    "pd.set_option(\"display.max_rows\", None)\n",
    "\n",
    "# ignore warnings\n",
    "import warnings\n",
    "warnings.filterwarnings('ignore')"
   ]
  },
  {
   "cell_type": "code",
   "execution_count": 3,
   "metadata": {},
   "outputs": [
    {
     "name": "stdout",
     "output_type": "stream",
     "text": [
      "data_df\n"
     ]
    },
    {
     "data": {
      "text/html": [
       "<div>\n",
       "<style scoped>\n",
       "    .dataframe tbody tr th:only-of-type {\n",
       "        vertical-align: middle;\n",
       "    }\n",
       "\n",
       "    .dataframe tbody tr th {\n",
       "        vertical-align: top;\n",
       "    }\n",
       "\n",
       "    .dataframe thead th {\n",
       "        text-align: right;\n",
       "    }\n",
       "</style>\n",
       "<table border=\"1\" class=\"dataframe\">\n",
       "  <thead>\n",
       "    <tr style=\"text-align: right;\">\n",
       "      <th></th>\n",
       "      <th>rideshare_company</th>\n",
       "      <th>pickup_zone</th>\n",
       "      <th>dropoff_zone</th>\n",
       "      <th>trip_length_miles</th>\n",
       "      <th>trip_time_seconds</th>\n",
       "      <th>base_passenger_fare_dollars</th>\n",
       "      <th>tolls_dollars</th>\n",
       "      <th>black_car_fund_dollars</th>\n",
       "      <th>sales_tax_dollars</th>\n",
       "      <th>congestion_surcharge_dollars</th>\n",
       "      <th>...</th>\n",
       "      <th>good_fare</th>\n",
       "      <th>request_month</th>\n",
       "      <th>request_date</th>\n",
       "      <th>request_hour</th>\n",
       "      <th>request_minute</th>\n",
       "      <th>request_day_of_week</th>\n",
       "      <th>time_of_day</th>\n",
       "      <th>pickup_borough</th>\n",
       "      <th>dropoff_borough</th>\n",
       "      <th>tip_or_no_tip</th>\n",
       "    </tr>\n",
       "  </thead>\n",
       "  <tbody>\n",
       "    <tr>\n",
       "      <th>0</th>\n",
       "      <td>Uber</td>\n",
       "      <td>University Heights/Morris Heights</td>\n",
       "      <td>Bedford Park</td>\n",
       "      <td>2.06</td>\n",
       "      <td>660</td>\n",
       "      <td>23.87</td>\n",
       "      <td>0.0</td>\n",
       "      <td>0.72</td>\n",
       "      <td>2.12</td>\n",
       "      <td>0.00</td>\n",
       "      <td>...</td>\n",
       "      <td>False</td>\n",
       "      <td>Jan</td>\n",
       "      <td>1</td>\n",
       "      <td>1</td>\n",
       "      <td>23</td>\n",
       "      <td>Sun</td>\n",
       "      <td>night</td>\n",
       "      <td>Bronx</td>\n",
       "      <td>Bronx</td>\n",
       "      <td>False</td>\n",
       "    </tr>\n",
       "    <tr>\n",
       "      <th>1</th>\n",
       "      <td>Uber</td>\n",
       "      <td>Bushwick South</td>\n",
       "      <td>Brooklyn Heights</td>\n",
       "      <td>4.38</td>\n",
       "      <td>1379</td>\n",
       "      <td>41.66</td>\n",
       "      <td>0.0</td>\n",
       "      <td>1.25</td>\n",
       "      <td>3.70</td>\n",
       "      <td>0.00</td>\n",
       "      <td>...</td>\n",
       "      <td>False</td>\n",
       "      <td>Jan</td>\n",
       "      <td>1</td>\n",
       "      <td>1</td>\n",
       "      <td>58</td>\n",
       "      <td>Sun</td>\n",
       "      <td>night</td>\n",
       "      <td>Brooklyn</td>\n",
       "      <td>Brooklyn</td>\n",
       "      <td>False</td>\n",
       "    </tr>\n",
       "    <tr>\n",
       "      <th>2</th>\n",
       "      <td>Uber</td>\n",
       "      <td>Two Bridges/Seward Park</td>\n",
       "      <td>Lower East Side</td>\n",
       "      <td>1.39</td>\n",
       "      <td>590</td>\n",
       "      <td>34.03</td>\n",
       "      <td>0.0</td>\n",
       "      <td>1.02</td>\n",
       "      <td>3.02</td>\n",
       "      <td>2.75</td>\n",
       "      <td>...</td>\n",
       "      <td>False</td>\n",
       "      <td>Jan</td>\n",
       "      <td>1</td>\n",
       "      <td>1</td>\n",
       "      <td>59</td>\n",
       "      <td>Sun</td>\n",
       "      <td>night</td>\n",
       "      <td>Manhattan</td>\n",
       "      <td>Manhattan</td>\n",
       "      <td>False</td>\n",
       "    </tr>\n",
       "  </tbody>\n",
       "</table>\n",
       "<p>3 rows × 24 columns</p>\n",
       "</div>"
      ],
      "text/plain": [
       "  rideshare_company                        pickup_zone      dropoff_zone  \\\n",
       "0              Uber  University Heights/Morris Heights      Bedford Park   \n",
       "1              Uber                     Bushwick South  Brooklyn Heights   \n",
       "2              Uber            Two Bridges/Seward Park   Lower East Side   \n",
       "\n",
       "   trip_length_miles  trip_time_seconds  base_passenger_fare_dollars  \\\n",
       "0               2.06                660                        23.87   \n",
       "1               4.38               1379                        41.66   \n",
       "2               1.39                590                        34.03   \n",
       "\n",
       "   tolls_dollars  black_car_fund_dollars  sales_tax_dollars  \\\n",
       "0            0.0                    0.72               2.12   \n",
       "1            0.0                    1.25               3.70   \n",
       "2            0.0                    1.02               3.02   \n",
       "\n",
       "   congestion_surcharge_dollars  ...  good_fare  request_month  request_date  \\\n",
       "0                          0.00  ...      False            Jan             1   \n",
       "1                          0.00  ...      False            Jan             1   \n",
       "2                          2.75  ...      False            Jan             1   \n",
       "\n",
       "   request_hour  request_minute request_day_of_week  time_of_day  \\\n",
       "0             1              23                 Sun        night   \n",
       "1             1              58                 Sun        night   \n",
       "2             1              59                 Sun        night   \n",
       "\n",
       "   pickup_borough  dropoff_borough tip_or_no_tip  \n",
       "0           Bronx            Bronx         False  \n",
       "1        Brooklyn         Brooklyn         False  \n",
       "2       Manhattan        Manhattan         False  \n",
       "\n",
       "[3 rows x 24 columns]"
      ]
     },
     "metadata": {},
     "output_type": "display_data"
    },
    {
     "data": {
      "text/plain": [
       "Index(['rideshare_company', 'pickup_zone', 'dropoff_zone', 'trip_length_miles',\n",
       "       'trip_time_seconds', 'base_passenger_fare_dollars', 'tolls_dollars',\n",
       "       'black_car_fund_dollars', 'sales_tax_dollars',\n",
       "       'congestion_surcharge_dollars', 'airport_fee_dollars', 'tip_dollars',\n",
       "       'driver_pay_dollars', 'driver_total_pay_dollars', 'good_fare',\n",
       "       'request_month', 'request_date', 'request_hour', 'request_minute',\n",
       "       'request_day_of_week', 'time_of_day', 'pickup_borough',\n",
       "       'dropoff_borough', 'tip_or_no_tip'],\n",
       "      dtype='object')"
      ]
     },
     "metadata": {},
     "output_type": "display_data"
    }
   ],
   "source": [
    "# create dataframe from previously cleaned CSV file\n",
    "data_df = pd.read_csv(\"cleaned_data.csv\")\n",
    "\n",
    "# preview data head sample from df\n",
    "print(f\"data_df\")\n",
    "display(data_df.head(3))\n",
    "\n",
    "# list columns\n",
    "display(data_df.columns)"
   ]
  },
  {
   "cell_type": "markdown",
   "metadata": {},
   "source": [
    "## **1. How often do riders tip?** 20% of rides"
   ]
  },
  {
   "cell_type": "code",
   "execution_count": 4,
   "metadata": {},
   "outputs": [
    {
     "data": {
      "text/plain": [
       "20.0"
      ]
     },
     "execution_count": 4,
     "metadata": {},
     "output_type": "execute_result"
    }
   ],
   "source": [
    "# establish total number of rides in df\n",
    "ride_count = len(data_df)\n",
    "\n",
    "# count number of rides where drivers received a tip (bool)\n",
    "tipped_ride_count = (data_df[\"tip_or_no_tip\"] == 1).sum()\n",
    "\n",
    "# divide number of tipped rides by total rides\n",
    "tipped_ride_pct = tipped_ride_count / ride_count\n",
    "\n",
    "# convert to a whole percentage\n",
    "(tipped_ride_pct * 100).round(0)"
   ]
  },
  {
   "cell_type": "markdown",
   "metadata": {},
   "source": [
    "## **2. When riders tip, how much do they tip?** 21% of base passenger fare and 17% of the total pre-tip fare"
   ]
  },
  {
   "cell_type": "code",
   "execution_count": 18,
   "metadata": {},
   "outputs": [],
   "source": [
    "# isolate tipped rides\n",
    "tipped_filter = data_df[\"tip_or_no_tip\"] == 1\n",
    "\n",
    "# create a dataframe of tipped rides\n",
    "tipped_rides_df = data_df[tipped_filter]"
   ]
  },
  {
   "cell_type": "code",
   "execution_count": 19,
   "metadata": {},
   "outputs": [
    {
     "data": {
      "text/plain": [
       "21.0"
      ]
     },
     "execution_count": 19,
     "metadata": {},
     "output_type": "execute_result"
    }
   ],
   "source": [
    "# BASE FARE\n",
    "# percent tip of base fare column created\n",
    "tipped_rides_df[\"pct_tip_of_base\"] = tipped_rides_df[\"tip_dollars\"] / tipped_rides_df[\"base_passenger_fare_dollars\"] * 100\n",
    "\n",
    "# calculate mean\n",
    "tipped_rides_df[\"pct_tip_of_base\"].mean().round(0)"
   ]
  },
  {
   "cell_type": "code",
   "execution_count": 20,
   "metadata": {},
   "outputs": [
    {
     "data": {
      "text/plain": [
       "17.0"
      ]
     },
     "execution_count": 20,
     "metadata": {},
     "output_type": "execute_result"
    }
   ],
   "source": [
    "#TOTAL FARE BEFORE TIP\n",
    "# new column for total fare before tip created\n",
    "tipped_rides_df[\"total_fare_before_tip\"] = tipped_rides_df[[\"base_passenger_fare_dollars\",\n",
    "    \"tolls_dollars\",\n",
    "    \"black_car_fund_dollars\",\n",
    "    \"sales_tax_dollars\",\n",
    "    \"congestion_surcharge_dollars\",\n",
    "    \"airport_fee_dollars\"]].sum(axis=1)\n",
    "\n",
    "# pct tip of total before tip column created\n",
    "tipped_rides_df[\"pct_tip_of_total\"] = tipped_rides_df[\"tip_dollars\"] / tipped_rides_df[\"total_fare_before_tip\"] * 100\n",
    "\n",
    "# calculate mean\n",
    "tipped_rides_df[\"pct_tip_of_total\"].mean().round(0)"
   ]
  },
  {
   "cell_type": "markdown",
   "metadata": {},
   "source": [
    "## **3. What are the busiest tipped routes?**\n",
    "\n",
    "1. JFK Airport to Outside of NYC\n",
    "2. LaGuardia Airport to Outside of NYC\n",
    "3. Times Sq/Theatre District to LaGuardia Airport\n",
    "4. LaGuardia Airport to Midtown South\n",
    "5. LaGuardia Airport to Times Sq/Theatre District"
   ]
  },
  {
   "cell_type": "code",
   "execution_count": 24,
   "metadata": {},
   "outputs": [
    {
     "data": {
      "text/plain": [
       "route\n",
       "JFK Airport to Outside of NYC                     15\n",
       "LaGuardia Airport to Outside of NYC                8\n",
       "Times Sq/Theatre District to LaGuardia Airport     7\n",
       "LaGuardia Airport to Midtown South                 6\n",
       "LaGuardia Airport to Times Sq/Theatre District     5\n",
       "Name: count, dtype: int64"
      ]
     },
     "execution_count": 24,
     "metadata": {},
     "output_type": "execute_result"
    }
   ],
   "source": [
    "# create a route column\n",
    "tipped_rides_df[\"route\"] = tipped_rides_df[\"pickup_zone\"] + \" to \" + tipped_rides_df[\"dropoff_zone\"]\n",
    "\n",
    "# isolate most frequent tipped routes\n",
    "tipped_rides_df[\"route\"].value_counts().head(5)"
   ]
  }
 ],
 "metadata": {
  "kernelspec": {
   "display_name": "dev",
   "language": "python",
   "name": "python3"
  },
  "language_info": {
   "codemirror_mode": {
    "name": "ipython",
    "version": 3
   },
   "file_extension": ".py",
   "mimetype": "text/x-python",
   "name": "python",
   "nbconvert_exporter": "python",
   "pygments_lexer": "ipython3",
   "version": "3.11.9"
  }
 },
 "nbformat": 4,
 "nbformat_minor": 2
}
